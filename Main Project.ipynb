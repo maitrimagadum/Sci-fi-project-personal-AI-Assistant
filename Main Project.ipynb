{
 "cells": [
  {
   "cell_type": "code",
   "execution_count": 1,
   "metadata": {},
   "outputs": [],
   "source": [
    "#IMPORTING LIBRARIES\n",
    "import os\n",
    "import time\n",
    "import subprocess\n",
    "import json\n",
    "import wolframalpha\n",
    "import requests\n",
    "import webbrowser\n",
    "import wikipedia\n",
    "import datetime"
   ]
  },
  {
   "cell_type": "code",
   "execution_count": 3,
   "metadata": {},
   "outputs": [],
   "source": [
    "#IMPORTANT LIBRARIES\n",
    "import speech_recognition as sr\n",
    "import pyttsx3\n",
    "import pywhatkit\n",
    "import pyjokes"
   ]
  },
  {
   "cell_type": "code",
   "execution_count": 4,
   "metadata": {},
   "outputs": [
    {
     "name": "stdout",
     "output_type": "stream",
     "text": [
      "________________________________________\n",
      "\n",
      "\n",
      "Loading Your AI Personal Assistant\n",
      "\n",
      "\n",
      "________________________________________\n"
     ]
    }
   ],
   "source": [
    "print(\"_\"*40)\n",
    "print(\"\\n\")\n",
    "print('Loading Your AI Personal Assistant')\n",
    "print(\"\\n\")\n",
    "print(\"_\"*40)"
   ]
  },
  {
   "cell_type": "code",
   "execution_count": 6,
   "metadata": {},
   "outputs": [],
   "source": [
    "eng=pyttsx3.init() #'sapi5'\n",
    "voices=eng.getProperty('voices')\n",
    "eng.setProperty(\"voice\",voices[1].id)"
   ]
  },
  {
   "cell_type": "code",
   "execution_count": 7,
   "metadata": {},
   "outputs": [],
   "source": [
    "def speak(text):\n",
    "    eng.say(text)\n",
    "    eng.runAndWait()"
   ]
  },
  {
   "cell_type": "code",
   "execution_count": 8,
   "metadata": {},
   "outputs": [],
   "source": [
    "def wishMe():\n",
    "    hour=datetime.datetime.now().hour\n",
    "    if hour>=0 and hour<12:\n",
    "        speak(\"Hello!!!,Good Morning Ms. My3\")\n",
    "        print(\"Hello!!!,Good Morning Ms. My3\")\n",
    "    elif hour>= 12 and hour <= 18:\n",
    "        speak(\"Hello!!!, Good Afternoon Ms. My3\")\n",
    "        print(\"Hello!!!,Good Afternoon Ms. My3\")\n",
    "    else :    \n",
    "        speak(\"Its already Night, bed time!!!\")\n",
    "        print(\"Its already Night, bed time!!!\")"
   ]
  },
  {
   "cell_type": "code",
   "execution_count": 10,
   "metadata": {},
   "outputs": [],
   "source": [
    "def takeCommand():\n",
    "    s = sr.Recognizer()\n",
    "    with sr.Microphone() as source:\n",
    "        print(\"I am Listening\")\n",
    "        audio=s.listen(source)\n",
    "        \n",
    "        try:\n",
    "            statement = s.recognize_google(audio,language='en-in')\n",
    "            print(f\"user said:{statement}\\n\")\n",
    "        except:\n",
    "       # Exception as e\n",
    "            speak(\"Pardon me , Please say that again\")\n",
    "            return \"None\"\n",
    "        return statement"
   ]
  },
  {
   "cell_type": "code",
   "execution_count": 11,
   "metadata": {},
   "outputs": [
    {
     "name": "stdout",
     "output_type": "stream",
     "text": [
      "Hello!!!,Good Afternoon Ms. My3\n"
     ]
    }
   ],
   "source": [
    "speak('Loading Your AI Personal Assistant')\n",
    "wishMe()"
   ]
  },
  {
   "cell_type": "code",
   "execution_count": 30,
   "metadata": {},
   "outputs": [
    {
     "name": "stdout",
     "output_type": "stream",
     "text": [
      "I am Listening\n",
      "user said:what how will you explain colour to a blind search it from Wikipedia\n",
      "\n",
      "Color blindness (color vision deficiency) is the decreased ability to see color or differences in color. It can impair tasks such as selecting ripe fruit, choosing clothing, and reading traffic lights. Color blindness may make some educational activities more difficult.\n",
      "I am Listening\n",
      "user said:Avinash ki something\n",
      "\n",
      "I am Listening\n",
      "user said:I will ask you something\n",
      "\n",
      "I am Listening\n",
      "user said:what is the distance between Earth and Moon\n",
      "\n",
      "378379 km (kilometers)\n",
      "I am Listening\n",
      "user said:play Idol by BTS\n",
      "\n",
      "I am Listening\n",
      "I am Listening\n",
      "user said:get me some information about Chandrayaan 1 2 from Wikipedia\n",
      "\n",
      "Voyager 1 is a space probe launched by NASA on September 5, 1977, as part of the Voyager program to study the outer Solar System and interstellar space beyond the Sun's heliosphere. Launched 16 days after its twin, Voyager 2, Voyager 1 has operated for 44 years and 11 days as of September 17, 2021 UTC [refresh] and still communicates with the Deep Space Network to receive routine commands and to transmit data to Earth. Real-time distance and velocity data is provided by NASA and JPL. At a distance of 154.14 AU (23.059 billion km; 14.328 billion mi) from Earth as of September 16, 2021, it is the most distant artificial object from Earth.The probe made successful flybys of Jupiter, Saturn, and Saturn's largest moon, Titan.\n",
      "I am Listening\n",
      "user said:who is Jay Shetty according to Wikipedia\n",
      "\n",
      "Jay Shetty (born 6 September 1987) is an English author, former Hindu monk, and life coach of Indian descent. As the host of the podcast On Purpose, his guests have included Alicia Keys, Khloe Kardashian, and Kobe Bryant, resulting in 64 million downloads. He has appeared on The Ellen DeGeneres Show, A Little Late with Lilly Singh and Today to discuss mental health and life purpose.\n",
      "I am Listening\n",
      "user said:ok bye\n",
      "\n",
      "your personal AI assistant is shutting down, See yaa\n"
     ]
    }
   ],
   "source": [
    "if __name__== \"__main__\" :\n",
    "    \n",
    "    while True:\n",
    "        speak(\"How can I help you ??\")\n",
    "        statement=takeCommand().lower()\n",
    "        if statement == 0:\n",
    "            continue\n",
    "        if \"good bye\" in statement or \"ok bye\" in statement or \"stop\" in statement:\n",
    "            speak(\"your personal AI assistant is shutting down, See yaa\")\n",
    "            print(\"your personal AI assistant is shutting down, See yaa\")\n",
    "            break\n",
    "        if 'wikipedia' in statement:\n",
    "            speak(\"****searching wikipedia****\")\n",
    "            statement=statement.replace(\"wikipedia\",\" \")\n",
    "            res = wikipedia.summary(statement, sentences =3)\n",
    "            speak(\"According to wikipedia....\")\n",
    "            print(res)\n",
    "            speak(res)\n",
    "            \n",
    "        elif 'who is' in statement:\n",
    "            person = statement.replace('who is', '')\n",
    "            info = wikipedia.summary(person, 1)\n",
    "            print(info)\n",
    "            speak(info)        \n",
    "            \n",
    "            \n",
    "            \n",
    "        elif \"open youtube\" in statement:\n",
    "            webbrowser.open_new_tab(\"https://www.youtube.com\")\n",
    "            speak(\"Youtube is open for you\")\n",
    "            time.sleep(5)\n",
    "            \n",
    "            \n",
    "        elif 'play' in statement:\n",
    "            song = statement.replace('play', '')\n",
    "            speak('playing ' + song)\n",
    "            pywhatkit.playonyt(song)\n",
    "            time.sleep(5)\n",
    "            \n",
    "        \n",
    "        elif \"open google\" in statement:\n",
    "            webbrowser.open_new_tab(\"https://www.google.com\")\n",
    "            speak(\"Google search is open for you\")\n",
    "            time.sleep(5)\n",
    "        elif \"mail\" in statement:\n",
    "            webbrowser.open_new_tab(\"https://mail.google.com\")\n",
    "            speak(\"Gmail is open for you\")\n",
    "            time.sleep(5)\n",
    "      \n",
    "        elif \"weather\" in statement:\n",
    "            api_key=\"8ef61edcf1c576d65d836254e11ea420\"\n",
    "            req_url=\"https://api.openweathermap.org/data/2.5/weather?\"\n",
    "            speak(\"May i know the City name\")\n",
    "            city_name = takeCommand()\n",
    "            com_url=req_url+\"appid = \" + api_key + \"&q\" + city_name\n",
    "            response = requests.get(com_url)\n",
    "            j = response.json()\n",
    "            if j[\"cod\"] != \"404\":\n",
    "                y=j[\"main\"]\n",
    "                current_temperature=y[\"temp\"]\n",
    "                current_humidity=y[\"humidity\"]\n",
    "                z=j['weather']\n",
    "                weather_description = z[0][\"description\"]\n",
    "                speak(\"The temperatue in Kelvin units is\" + str(current_temperature) + \"\\n humidity in percentage is\" + str(current_humidity) + \"\\n weather description\" + str(weather_description))  \n",
    "                print(\"The temperatue in Kelvin units is\" + str(current_temperature) + \"\\n humidity in percentage is\" + str(current_humidity) + \"\\n weather description\" + str(weather_description)) \n",
    "            else:\n",
    "                speak(\"city not found\")\n",
    "                print(\"city not found\")\n",
    "         \n",
    "        elif \"time\" in statement:\n",
    "            strTime=datetime.datetime.now().strftime(\"%H:%M:%S\")\n",
    "            speak(f\"Current time is {strTime}\")\n",
    "        \n",
    "        elif \"who are you\" in statement or \"what are you\" in statement or \"what can you do\" in statement:\n",
    "            speak(\"I am your personal AI assistant I am progrmmed to do tasks like openin google search, opening youtube, predict weather for you from different cities, and many more.\" \n",
    "                  \"I can help you study from wikipedia and other e-learning platforms. I am a good listener and i can be your best friend too!, Friend?\")\n",
    "        \n",
    "        elif \"who made you\" in statement or \"who created you\" in statement or \"who bought you to life\" in statement:\n",
    "            speak(\"I was build a AI robosoft\")\n",
    "            print(\"I was build a AI robosoft\")\n",
    "            \n",
    "        elif \"open stackoverflow\" in statement:\n",
    "            webbrowser.open_new_tab(\"https://stackoverflow.com/login\")\n",
    "            time.sleep(5)\n",
    "        elif \"news\" in statement:\n",
    "            news=webbrowser.open_new_tab(\"https://timesofindia.indiatime.com/home\")\n",
    "            speak(\"Here are some Headline for you from Times of India\")\n",
    "            time.sleep(7)\n",
    "       \n",
    "        elif 'joke' in statement:\n",
    "            speak(pyjokes.get_joke())\n",
    "    \n",
    "    \n",
    "    \n",
    "        elif \"search\" in statement:\n",
    "            statement = statement.replace(\"search\",\" \")\n",
    "            webbrowser.open_new_tab(\"statement\")\n",
    "            time.sleep(5)\n",
    "           \n",
    "        elif \"ask\" in statement:\n",
    "            speak(\"I can answer to computational and geographical questions too just try me!! what do you want to ask?\")\n",
    "            question = takeCommand()\n",
    "            api_id = \"R2K75H-7ELALHR35X\"\n",
    "            client = wolframalpha.Client('R2K75H-7ELALHR35X')\n",
    "            res = client.query(question)\n",
    "            answer= next(res.results).text\n",
    "            speak(answer)\n",
    "            print(answer)\n",
    "            \n",
    "        elif \"log off\" in statement or \"sign out\" in statement or \"shut down\" in statement:\n",
    "            speak(\"your pc will shut down in 10 seconds- make sure you have saved all the files and exited from all the applications\")\n",
    "            subprocess.call(['shutdown',\"/l\"])\n",
    "            \n",
    "time.sleep(3)            "
   ]
  },
  {
   "cell_type": "code",
   "execution_count": null,
   "metadata": {},
   "outputs": [],
   "source": []
  }
 ],
 "metadata": {
  "kernelspec": {
   "display_name": "Python 3",
   "language": "python",
   "name": "python3"
  },
  "language_info": {
   "codemirror_mode": {
    "name": "ipython",
    "version": 3
   },
   "file_extension": ".py",
   "mimetype": "text/x-python",
   "name": "python",
   "nbconvert_exporter": "python",
   "pygments_lexer": "ipython3",
   "version": "3.8.5"
  }
 },
 "nbformat": 4,
 "nbformat_minor": 4
}
